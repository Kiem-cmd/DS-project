{
 "cells": [
  {
   "attachments": {},
   "cell_type": "markdown",
   "metadata": {},
   "source": [
    "<h1> Numpy </h1>\n"
   ]
  },
  {
   "cell_type": "code",
   "execution_count": 2,
   "metadata": {},
   "outputs": [],
   "source": [
    "import numpy as np"
   ]
  },
  {
   "attachments": {},
   "cell_type": "markdown",
   "metadata": {},
   "source": [
    "<h2> 1. Create array</h2>"
   ]
  },
  {
   "cell_type": "code",
   "execution_count": 4,
   "metadata": {},
   "outputs": [
    {
     "data": {
      "text/plain": [
       "array([1, 2, 3, 4, 5])"
      ]
     },
     "execution_count": 4,
     "metadata": {},
     "output_type": "execute_result"
    }
   ],
   "source": [
    "array1 = np.array([1,2,3,4,5])\n",
    "array1"
   ]
  },
  {
   "attachments": {},
   "cell_type": "markdown",
   "metadata": {},
   "source": [
    "##### Array khác với list : nó chỉ chứa các đối tượng cùng types. Nếu ko cùng thì nó sẽ cố gắng upcast"
   ]
  },
  {
   "cell_type": "code",
   "execution_count": 9,
   "metadata": {},
   "outputs": [
    {
     "data": {
      "text/plain": [
       "numpy.str_"
      ]
     },
     "execution_count": 9,
     "metadata": {},
     "output_type": "execute_result"
    }
   ],
   "source": [
    "listt = [1,'alo']\n",
    "array = np.array(listt)\n",
    "type(array[0])    ## chuyển 1 thành string "
   ]
  },
  {
   "attachments": {},
   "cell_type": "markdown",
   "metadata": {},
   "source": [
    "##### Nếu muốn định rõ kiểu dữ liệu --> dùng dtype = "
   ]
  },
  {
   "cell_type": "code",
   "execution_count": 11,
   "metadata": {},
   "outputs": [
    {
     "data": {
      "text/plain": [
       "numpy.float32"
      ]
     },
     "execution_count": 11,
     "metadata": {},
     "output_type": "execute_result"
    }
   ],
   "source": [
    "array = np.array([1,2,3,4],dtype = 'float32')\n",
    "type(array[0])"
   ]
  },
  {
   "attachments": {},
   "cell_type": "markdown",
   "metadata": {},
   "source": [
    "##### Không giống list --> array có thể nhiều chiều"
   ]
  },
  {
   "cell_type": "code",
   "execution_count": 13,
   "metadata": {},
   "outputs": [
    {
     "data": {
      "text/plain": [
       "array([[1, 2, 3],\n",
       "       [4, 5, 6],\n",
       "       [7, 8, 9]])"
      ]
     },
     "execution_count": 13,
     "metadata": {},
     "output_type": "execute_result"
    }
   ],
   "source": [
    "array = np.array([[1,2,3],[4,5,6],[7,8,9]])\n",
    "array"
   ]
  },
  {
   "attachments": {},
   "cell_type": "markdown",
   "metadata": {},
   "source": [
    "#### Một số cách create array"
   ]
  },
  {
   "cell_type": "code",
   "execution_count": 15,
   "metadata": {},
   "outputs": [
    {
     "data": {
      "text/plain": [
       "array([0, 0, 0, 0, 0, 0, 0, 0, 0, 0])"
      ]
     },
     "execution_count": 15,
     "metadata": {},
     "output_type": "execute_result"
    }
   ],
   "source": [
    "zeros = np.zeros(10,dtype ='int')\n",
    "zeros"
   ]
  },
  {
   "cell_type": "code",
   "execution_count": 16,
   "metadata": {},
   "outputs": [
    {
     "data": {
      "text/plain": [
       "array([1, 1, 1, 1, 1, 1, 1, 1, 1, 1])"
      ]
     },
     "execution_count": 16,
     "metadata": {},
     "output_type": "execute_result"
    }
   ],
   "source": [
    "one = np.ones(10,dtype='int')\n",
    "one"
   ]
  },
  {
   "cell_type": "code",
   "execution_count": 20,
   "metadata": {},
   "outputs": [
    {
     "data": {
      "text/plain": [
       "array([[7, 7, 7],\n",
       "       [7, 7, 7],\n",
       "       [7, 7, 7]])"
      ]
     },
     "execution_count": 20,
     "metadata": {},
     "output_type": "execute_result"
    }
   ],
   "source": [
    "full = np.full((3,3),7,dtype = 'int')\n",
    "full"
   ]
  },
  {
   "cell_type": "code",
   "execution_count": 21,
   "metadata": {},
   "outputs": [
    {
     "data": {
      "text/plain": [
       "array([0, 1, 2, 3, 4, 5, 6, 7, 8, 9])"
      ]
     },
     "execution_count": 21,
     "metadata": {},
     "output_type": "execute_result"
    }
   ],
   "source": [
    "arange = np.arange(0,10,1)\n",
    "arange"
   ]
  },
  {
   "cell_type": "code",
   "execution_count": 22,
   "metadata": {},
   "outputs": [
    {
     "data": {
      "text/plain": [
       "array([0.  , 0.25, 0.5 , 0.75, 1.  ])"
      ]
     },
     "execution_count": 22,
     "metadata": {},
     "output_type": "execute_result"
    }
   ],
   "source": [
    "linspace = np.linspace(0,1,5)\n",
    "linspace"
   ]
  },
  {
   "cell_type": "code",
   "execution_count": 24,
   "metadata": {},
   "outputs": [
    {
     "data": {
      "text/plain": [
       "array([[0.46710736, 0.74400019, 0.82798298, 0.06622558],\n",
       "       [0.7434104 , 0.73466971, 0.54059609, 0.87043257],\n",
       "       [0.19729169, 0.87254384, 0.67484226, 0.36196612],\n",
       "       [0.12239019, 0.757164  , 0.67572575, 0.99450992]])"
      ]
     },
     "execution_count": 24,
     "metadata": {},
     "output_type": "execute_result"
    }
   ],
   "source": [
    "random = np.random.random((4,4))  ## random giá trị giữa 0 và 1 \n",
    "random"
   ]
  },
  {
   "cell_type": "code",
   "execution_count": 25,
   "metadata": {},
   "outputs": [
    {
     "data": {
      "text/plain": [
       "array([[-0.96563172, -1.69717311,  0.3816857 ],\n",
       "       [ 0.67600502, -1.33467438, -2.63583233],\n",
       "       [-1.26780985, -0.81026577, -0.62077157]])"
      ]
     },
     "execution_count": 25,
     "metadata": {},
     "output_type": "execute_result"
    }
   ],
   "source": [
    "random_nor = np.random.normal(0,1,(3,3))  ## random theo phân phối chuẩn \n",
    "random_nor                                ## mean = 0  std = 1\n"
   ]
  },
  {
   "cell_type": "code",
   "execution_count": 27,
   "metadata": {},
   "outputs": [
    {
     "data": {
      "text/plain": [
       "array([[9, 9, 0],\n",
       "       [6, 7, 2],\n",
       "       [2, 4, 4]])"
      ]
     },
     "execution_count": 27,
     "metadata": {},
     "output_type": "execute_result"
    }
   ],
   "source": [
    "random_int = np.random.randint(0,10,(3,3)) ## random số nguyên trong khoảng\n",
    "random_int "
   ]
  },
  {
   "cell_type": "code",
   "execution_count": 29,
   "metadata": {},
   "outputs": [
    {
     "data": {
      "text/plain": [
       "array([[1., 0., 0., 0.],\n",
       "       [0., 1., 0., 0.],\n",
       "       [0., 0., 1., 0.],\n",
       "       [0., 0., 0., 1.]])"
      ]
     },
     "execution_count": 29,
     "metadata": {},
     "output_type": "execute_result"
    }
   ],
   "source": [
    "eye = np.eye(4)  ## ma trận đường chéo\n",
    "eye"
   ]
  },
  {
   "attachments": {},
   "cell_type": "markdown",
   "metadata": {},
   "source": [
    "2. Numpy data type"
   ]
  },
  {
   "attachments": {},
   "cell_type": "markdown",
   "metadata": {},
   "source": [
    "<p>bool_ \n",
    "\n",
    "int_\n",
    "\n",
    "intc\n",
    "\n",
    "intp\n",
    "\n",
    "int8\n",
    "\n",
    "int16\n",
    "\n",
    "int32\n",
    "\n",
    "int64\n",
    "\n",
    "uint8\n",
    "\n",
    "uint16\n",
    "\n",
    "uint32\n",
    "\n",
    "uint64\n",
    "\n",
    "float_\n",
    "\n",
    "float_16\n",
    "\n",
    "float_32\n",
    "\n",
    "complex_\n",
    "\n",
    "complex_64</p>"
   ]
  },
  {
   "attachments": {},
   "cell_type": "markdown",
   "metadata": {},
   "source": [
    "3. Numpy array attributes"
   ]
  },
  {
   "cell_type": "code",
   "execution_count": 32,
   "metadata": {},
   "outputs": [
    {
     "data": {
      "text/plain": [
       "array([[[1, 3, 2, 3, 8],\n",
       "        [7, 5, 6, 4, 2],\n",
       "        [2, 8, 3, 0, 7],\n",
       "        [0, 8, 0, 0, 3]],\n",
       "\n",
       "       [[7, 5, 4, 9, 1],\n",
       "        [6, 6, 1, 3, 1],\n",
       "        [3, 9, 1, 8, 4],\n",
       "        [8, 7, 0, 6, 5]],\n",
       "\n",
       "       [[8, 0, 5, 0, 1],\n",
       "        [1, 2, 6, 8, 0],\n",
       "        [1, 4, 2, 5, 1],\n",
       "        [6, 3, 9, 8, 3]]])"
      ]
     },
     "execution_count": 32,
     "metadata": {},
     "output_type": "execute_result"
    }
   ],
   "source": [
    "array1 = np.random.randint(0,10,(3,4,5))\n",
    "array1"
   ]
  },
  {
   "cell_type": "code",
   "execution_count": 33,
   "metadata": {},
   "outputs": [
    {
     "name": "stdout",
     "output_type": "stream",
     "text": [
      "Dim:  3\n",
      "Shape:  (3, 4, 5)\n",
      "Size:  60\n"
     ]
    }
   ],
   "source": [
    "print(\"Dim: \",array1.ndim)\n",
    "print(\"Shape: \",array1.shape)\n",
    "print(\"Size: \",array1.size)"
   ]
  },
  {
   "attachments": {},
   "cell_type": "markdown",
   "metadata": {},
   "source": [
    "4. Access Single Elements"
   ]
  },
  {
   "attachments": {},
   "cell_type": "markdown",
   "metadata": {},
   "source": [
    "##### Truy nhập vào từng phân tử"
   ]
  },
  {
   "cell_type": "code",
   "execution_count": 34,
   "metadata": {},
   "outputs": [
    {
     "data": {
      "text/plain": [
       "array([[[1, 3, 2, 3, 8],\n",
       "        [7, 5, 6, 4, 2],\n",
       "        [2, 8, 3, 0, 7],\n",
       "        [0, 8, 0, 0, 3]],\n",
       "\n",
       "       [[7, 5, 4, 9, 1],\n",
       "        [6, 6, 1, 3, 1],\n",
       "        [3, 9, 1, 8, 4],\n",
       "        [8, 7, 0, 6, 5]],\n",
       "\n",
       "       [[8, 0, 5, 0, 1],\n",
       "        [1, 2, 6, 8, 0],\n",
       "        [1, 4, 2, 5, 1],\n",
       "        [6, 3, 9, 8, 3]]])"
      ]
     },
     "execution_count": 34,
     "metadata": {},
     "output_type": "execute_result"
    }
   ],
   "source": [
    "array1"
   ]
  },
  {
   "cell_type": "code",
   "execution_count": 35,
   "metadata": {},
   "outputs": [
    {
     "data": {
      "text/plain": [
       "array([[1, 3, 2, 3, 8],\n",
       "       [7, 5, 6, 4, 2],\n",
       "       [2, 8, 3, 0, 7],\n",
       "       [0, 8, 0, 0, 3]])"
      ]
     },
     "execution_count": 35,
     "metadata": {},
     "output_type": "execute_result"
    }
   ],
   "source": [
    "array1[0]"
   ]
  },
  {
   "cell_type": "code",
   "execution_count": 42,
   "metadata": {},
   "outputs": [
    {
     "data": {
      "text/plain": [
       "3"
      ]
     },
     "execution_count": 42,
     "metadata": {},
     "output_type": "execute_result"
    }
   ],
   "source": [
    "array1[0,0,1]"
   ]
  },
  {
   "cell_type": "code",
   "execution_count": 43,
   "metadata": {},
   "outputs": [
    {
     "data": {
      "text/plain": [
       "8"
      ]
     },
     "execution_count": 43,
     "metadata": {},
     "output_type": "execute_result"
    }
   ],
   "source": [
    "array1[0,0,-1]"
   ]
  },
  {
   "attachments": {},
   "cell_type": "markdown",
   "metadata": {},
   "source": [
    "##### chúng ta có thể thay đổi từng phần tử này"
   ]
  },
  {
   "cell_type": "code",
   "execution_count": 45,
   "metadata": {},
   "outputs": [
    {
     "data": {
      "text/plain": [
       "array([[5, 3, 2, 3, 8],\n",
       "       [7, 5, 6, 4, 2],\n",
       "       [2, 8, 3, 0, 7],\n",
       "       [0, 8, 0, 0, 3]])"
      ]
     },
     "execution_count": 45,
     "metadata": {},
     "output_type": "execute_result"
    }
   ],
   "source": [
    "array1[0,0,0] = 5\n",
    "array1[0]"
   ]
  },
  {
   "attachments": {},
   "cell_type": "markdown",
   "metadata": {},
   "source": [
    "##### Khi chúng ta thay đổi 1 phần từ thành 1 phần có kiểu dữ liệu khác thì cần lưu ý"
   ]
  },
  {
   "cell_type": "code",
   "execution_count": 50,
   "metadata": {},
   "outputs": [
    {
     "name": "stdout",
     "output_type": "stream",
     "text": [
      "<class 'numpy.int32'>\n"
     ]
    },
    {
     "data": {
      "text/plain": [
       "array([[1, 3, 2, 3, 8],\n",
       "       [7, 5, 6, 4, 2],\n",
       "       [2, 8, 3, 0, 7],\n",
       "       [0, 8, 0, 0, 3]])"
      ]
     },
     "execution_count": 50,
     "metadata": {},
     "output_type": "execute_result"
    }
   ],
   "source": [
    "print(type(array1[0,0,0]))\n",
    "array1[0,0,0] = 1.1111   ## nó tự động làm tròn 1 thay vì 1.1111\n",
    "array1[0]"
   ]
  },
  {
   "attachments": {},
   "cell_type": "markdown",
   "metadata": {},
   "source": [
    "5. Truy cập vào 1 array con\n"
   ]
  },
  {
   "attachments": {},
   "cell_type": "markdown",
   "metadata": {},
   "source": [
    "##### One-dimension"
   ]
  },
  {
   "cell_type": "code",
   "execution_count": 53,
   "metadata": {},
   "outputs": [
    {
     "data": {
      "text/plain": [
       "array([0, 1, 2, 3, 4, 5, 6, 7, 8, 9])"
      ]
     },
     "execution_count": 53,
     "metadata": {},
     "output_type": "execute_result"
    }
   ],
   "source": [
    "x= np.arange(10)\n",
    "x"
   ]
  },
  {
   "cell_type": "code",
   "execution_count": 54,
   "metadata": {},
   "outputs": [
    {
     "name": "stdout",
     "output_type": "stream",
     "text": [
      "Từ 0 -> 4:  [0 1 2 3 4]\n",
      "Từ 5 -> hết:  [5 6 7 8 9]\n",
      "Từ 4 -> 7:  [4 5 6 7]\n"
     ]
    }
   ],
   "source": [
    "print(\"Từ 0 -> 4: \",x[:5])\n",
    "print(\"Từ 5 -> hết: \",x[5:])\n",
    "print(\"Từ 4 -> 7: \",x[4:8])"
   ]
  },
  {
   "cell_type": "code",
   "execution_count": 57,
   "metadata": {},
   "outputs": [
    {
     "name": "stdout",
     "output_type": "stream",
     "text": [
      "Start:0 - End:Hết - Step:2:  [0 2 4 6 8]\n",
      "Start:End - End:0 - Step:-1:  [9 8 7 6 5 4 3 2 1 0]\n"
     ]
    }
   ],
   "source": [
    "print(\"Start:0 - End:Hết - Step:2: \",x[::2])\n",
    "print(\"Start:End - End:0 - Step:-1: \",x[::-1])"
   ]
  },
  {
   "attachments": {},
   "cell_type": "markdown",
   "metadata": {},
   "source": [
    "##### Mutil Dimension\n"
   ]
  },
  {
   "cell_type": "code",
   "execution_count": 59,
   "metadata": {},
   "outputs": [
    {
     "data": {
      "text/plain": [
       "array([[7, 2, 6, 6],\n",
       "       [1, 6, 6, 2],\n",
       "       [7, 2, 7, 0],\n",
       "       [9, 5, 3, 2]])"
      ]
     },
     "execution_count": 59,
     "metadata": {},
     "output_type": "execute_result"
    }
   ],
   "source": [
    "x2 = np.random.randint(0,10,(4,4))\n",
    "x2"
   ]
  },
  {
   "cell_type": "code",
   "execution_count": 62,
   "metadata": {},
   "outputs": [
    {
     "name": "stdout",
     "output_type": "stream",
     "text": [
      "row:0->1 | col:2->3\n",
      " [[6 6]\n",
      " [6 2]]\n"
     ]
    }
   ],
   "source": [
    "print(\"row:0->1 | col:2->3\\n\",x2[:2,2:4])"
   ]
  },
  {
   "cell_type": "code",
   "execution_count": 64,
   "metadata": {},
   "outputs": [
    {
     "name": "stdout",
     "output_type": "stream",
     "text": [
      "row: 0->End(step=2) | col: 0->End(step = 2)\n",
      " [[7 6]\n",
      " [7 7]]\n"
     ]
    }
   ],
   "source": [
    "print(\"row: 0->End(step=2) | col: 0->End(step = 2)\\n\",x2[::2,::2])"
   ]
  },
  {
   "attachments": {},
   "cell_type": "markdown",
   "metadata": {},
   "source": [
    "Truy xuất Row hoặc Collumn"
   ]
  },
  {
   "cell_type": "code",
   "execution_count": 68,
   "metadata": {},
   "outputs": [
    {
     "name": "stdout",
     "output_type": "stream",
     "text": [
      "Cột 1\n",
      " [7 1 7 9]\n",
      "Hàng 1\n",
      " [7 2 6 6]\n"
     ]
    }
   ],
   "source": [
    "print(\"Cột 1\\n\",x2[:,0])\n",
    "print(\"Hàng 1\\n\",x2[0,:])"
   ]
  },
  {
   "attachments": {},
   "cell_type": "markdown",
   "metadata": {},
   "source": [
    "##### Lưu ý khi chúng ta thay đổi array thì nó sẽ trả về phiên bản đã thay đổi - khác với list"
   ]
  },
  {
   "cell_type": "code",
   "execution_count": 72,
   "metadata": {},
   "outputs": [
    {
     "name": "stdout",
     "output_type": "stream",
     "text": [
      "List 1:  [1, 2, 3, 4, 5]\n",
      "List 2:  [1, 2, 999]\n"
     ]
    }
   ],
   "source": [
    "list1 = [1,2,3,4,5]\n",
    "list2 = list1[:3]\n",
    "list2[2] = 999\n",
    "print(\"List 1: \",list1)\n",
    "print(\"List 2: \",list2)"
   ]
  },
  {
   "cell_type": "code",
   "execution_count": 73,
   "metadata": {},
   "outputs": [
    {
     "name": "stdout",
     "output_type": "stream",
     "text": [
      "Array 1:  [  1   2 999   4   5]\n",
      "Array 2:  [  1   2 999]\n"
     ]
    }
   ],
   "source": [
    "array1 = np.array([1,2,3,4,5])\n",
    "array2 = array1[:3]\n",
    "array2[2] = 999\n",
    "print(\"Array 1: \",array1)\n",
    "print(\"Array 2: \",array2)"
   ]
  },
  {
   "attachments": {},
   "cell_type": "markdown",
   "metadata": {},
   "source": [
    "##### Khi tạo array mới để ko còn liên quan đến mảng cũ -> dùng copy()"
   ]
  },
  {
   "cell_type": "code",
   "execution_count": 74,
   "metadata": {},
   "outputs": [
    {
     "name": "stdout",
     "output_type": "stream",
     "text": [
      "Array 1:  [1 2 3 4 5]\n",
      "Array 2:  [  1   2 999]\n"
     ]
    }
   ],
   "source": [
    "array1 = np.array([1,2,3,4,5])\n",
    "array2 = array1[:3].copy()\n",
    "array2[2] = 999\n",
    "print(\"Array 1: \",array1)\n",
    "print(\"Array 2: \",array2)"
   ]
  },
  {
   "attachments": {},
   "cell_type": "markdown",
   "metadata": {},
   "source": [
    "6.Reshape Array"
   ]
  },
  {
   "cell_type": "code",
   "execution_count": 76,
   "metadata": {},
   "outputs": [
    {
     "data": {
      "text/plain": [
       "array([1, 2, 3, 4, 5, 6, 7, 8, 9])"
      ]
     },
     "execution_count": 76,
     "metadata": {},
     "output_type": "execute_result"
    }
   ],
   "source": [
    "array = np.arange(1,10)\n",
    "array"
   ]
  },
  {
   "cell_type": "code",
   "execution_count": 78,
   "metadata": {},
   "outputs": [
    {
     "data": {
      "text/plain": [
       "array([[1, 2, 3],\n",
       "       [4, 5, 6],\n",
       "       [7, 8, 9]])"
      ]
     },
     "execution_count": 78,
     "metadata": {},
     "output_type": "execute_result"
    }
   ],
   "source": [
    "array = array.reshape((3,3))  ### điều kiện để reshape là cùng size\n",
    "array"
   ]
  },
  {
   "cell_type": "code",
   "execution_count": 79,
   "metadata": {},
   "outputs": [
    {
     "data": {
      "text/plain": [
       "(3,)"
      ]
     },
     "execution_count": 79,
     "metadata": {},
     "output_type": "execute_result"
    }
   ],
   "source": [
    "x = np.array([1,2,3])\n",
    "x.shape"
   ]
  },
  {
   "cell_type": "code",
   "execution_count": 82,
   "metadata": {},
   "outputs": [
    {
     "name": "stdout",
     "output_type": "stream",
     "text": [
      "Reshape 1*3:  [[1 2 3]]\n",
      "Reshape 3*1:\n",
      " [[1]\n",
      " [2]\n",
      " [3]]\n"
     ]
    }
   ],
   "source": [
    "print(\"Reshape 1*3: \",x.reshape((1,3)))\n",
    "print(\"Reshape 3*1:\\n\",x.reshape((3,1)))"
   ]
  },
  {
   "attachments": {},
   "cell_type": "markdown",
   "metadata": {},
   "source": [
    "##### Khi dùng reshape thì nó cũng là no-copy, tuy nhiên ko đúng trong tất cả trường hợp -> dùng phải để ý"
   ]
  },
  {
   "cell_type": "code",
   "execution_count": 87,
   "metadata": {},
   "outputs": [
    {
     "name": "stdout",
     "output_type": "stream",
     "text": [
      "X:  [  1   2 999]\n",
      "B:  [[  1   2 999]]\n"
     ]
    }
   ],
   "source": [
    "b = x.reshape((1,3))\n",
    "b[0,2] = 999\n",
    "print(\"X: \",x)\n",
    "print(\"B: \",b)  "
   ]
  },
  {
   "attachments": {},
   "cell_type": "markdown",
   "metadata": {},
   "source": [
    "##### Array.reshape và Array.T là khác nhau "
   ]
  },
  {
   "cell_type": "code",
   "execution_count": 89,
   "metadata": {},
   "outputs": [
    {
     "data": {
      "text/plain": [
       "array([[4, 2, 2, 3, 3],\n",
       "       [1, 3, 8, 2, 2],\n",
       "       [1, 2, 1, 1, 3]])"
      ]
     },
     "execution_count": 89,
     "metadata": {},
     "output_type": "execute_result"
    }
   ],
   "source": [
    "x = np.random.randint(1,9,(3,5))\n",
    "x"
   ]
  },
  {
   "cell_type": "code",
   "execution_count": 93,
   "metadata": {},
   "outputs": [
    {
     "name": "stdout",
     "output_type": "stream",
     "text": [
      "X=(3,5).reshape(5,3)\n",
      " [[4 2 2]\n",
      " [3 3 1]\n",
      " [3 8 2]\n",
      " [2 1 2]\n",
      " [1 1 3]]\n",
      "X=(3,5).T\n",
      " [[4 1 1]\n",
      " [2 3 2]\n",
      " [2 8 1]\n",
      " [3 2 1]\n",
      " [3 2 3]]\n"
     ]
    }
   ],
   "source": [
    "print(\"X=(3,5).reshape(5,3)\\n\",x.reshape((5,3)))\n",
    "print(\"X=(3,5).T\\n\",x.T)   "
   ]
  },
  {
   "attachments": {},
   "cell_type": "markdown",
   "metadata": {},
   "source": [
    "7.Array concatenation and Spliting ( Gộp và Cắt array)"
   ]
  },
  {
   "attachments": {},
   "cell_type": "markdown",
   "metadata": {},
   "source": [
    "##### * Concat of array(Gộp mảng)"
   ]
  },
  {
   "attachments": {},
   "cell_type": "markdown",
   "metadata": {},
   "source": [
    "##### Concatenate"
   ]
  },
  {
   "cell_type": "code",
   "execution_count": 101,
   "metadata": {},
   "outputs": [
    {
     "data": {
      "text/plain": [
       "array([1, 2, 3, 3, 2, 1])"
      ]
     },
     "execution_count": 101,
     "metadata": {},
     "output_type": "execute_result"
    }
   ],
   "source": [
    "x1 = np.array([1,2,3])\n",
    "x2 = np.array([3,2,1])\n",
    "np.concatenate([x1,x2])"
   ]
  },
  {
   "cell_type": "code",
   "execution_count": 97,
   "metadata": {},
   "outputs": [
    {
     "data": {
      "text/plain": [
       "array([1, 2, 3, 3, 2, 1, 1, 1, 1])"
      ]
     },
     "execution_count": 97,
     "metadata": {},
     "output_type": "execute_result"
    }
   ],
   "source": [
    "x3 = np.array([1,1,1])\n",
    "np.concatenate([x1,x2,x3])"
   ]
  },
  {
   "cell_type": "code",
   "execution_count": 103,
   "metadata": {},
   "outputs": [
    {
     "data": {
      "text/plain": [
       "array([[1, 2, 3],\n",
       "       [3, 2, 1]])"
      ]
     },
     "execution_count": 103,
     "metadata": {},
     "output_type": "execute_result"
    }
   ],
   "source": [
    "x1 = x1.reshape((1,3))\n",
    "x2 = x2.reshape((1,3))\n",
    "\n",
    "np.concatenate([x1,x2])"
   ]
  },
  {
   "cell_type": "code",
   "execution_count": 105,
   "metadata": {},
   "outputs": [
    {
     "data": {
      "text/plain": [
       "array([[1, 4, 9],\n",
       "       [4, 3, 1]])"
      ]
     },
     "execution_count": 105,
     "metadata": {},
     "output_type": "execute_result"
    }
   ],
   "source": [
    "array_2 = np.random.randint(1,10,(2,3))\n",
    "array_2"
   ]
  },
  {
   "cell_type": "code",
   "execution_count": 108,
   "metadata": {},
   "outputs": [
    {
     "name": "stdout",
     "output_type": "stream",
     "text": [
      "[[1 4 9]\n",
      " [4 3 1]\n",
      " [1 4 9]\n",
      " [4 3 1]]\n",
      "---------------------------------\n",
      "[[1 4 9 1 4 9]\n",
      " [4 3 1 4 3 1]]\n"
     ]
    }
   ],
   "source": [
    "print(np.concatenate([array_2,array_2]))\n",
    "print(\"---------------------------------\")\n",
    "print(np.concatenate([array_2,array_2], axis = 1))"
   ]
  },
  {
   "attachments": {},
   "cell_type": "markdown",
   "metadata": {},
   "source": [
    "##### Vstack"
   ]
  },
  {
   "cell_type": "code",
   "execution_count": 110,
   "metadata": {},
   "outputs": [
    {
     "data": {
      "text/plain": [
       "array([[1, 2, 3],\n",
       "       [3, 2, 1],\n",
       "       [4, 5, 6]])"
      ]
     },
     "execution_count": 110,
     "metadata": {},
     "output_type": "execute_result"
    }
   ],
   "source": [
    "x1 = np.array([1,2,3])\n",
    "x2 = np.array([[3,2,1],[4,5,6]])\n",
    "np.vstack([x1,x2])"
   ]
  },
  {
   "cell_type": "code",
   "execution_count": 115,
   "metadata": {},
   "outputs": [],
   "source": [
    "x1 = np.array([1,2,3])\n",
    "x2 = np.array([[3,2,1,2],[4,5,6,4]])\n",
    "# np.vstack([x1,x2])   -->ERROR"
   ]
  },
  {
   "attachments": {},
   "cell_type": "markdown",
   "metadata": {},
   "source": [
    "##### Hstack"
   ]
  },
  {
   "cell_type": "code",
   "execution_count": 117,
   "metadata": {},
   "outputs": [
    {
     "data": {
      "text/plain": [
       "array([1, 2, 3, 3, 2, 1, 2])"
      ]
     },
     "execution_count": 117,
     "metadata": {},
     "output_type": "execute_result"
    }
   ],
   "source": [
    "x1 = np.array([1,2,3])\n",
    "x2 = np.array([3,2,1,2])\n",
    "np.hstack([x1,x2])"
   ]
  },
  {
   "attachments": {},
   "cell_type": "markdown",
   "metadata": {},
   "source": [
    "##### * Split array(Tách chuỗi)"
   ]
  },
  {
   "attachments": {},
   "cell_type": "markdown",
   "metadata": {},
   "source": [
    "##### split"
   ]
  },
  {
   "cell_type": "code",
   "execution_count": 131,
   "metadata": {},
   "outputs": [
    {
     "name": "stdout",
     "output_type": "stream",
     "text": [
      "[1 2 3]\n",
      "-------------------------------\n",
      "[99 99]\n",
      "-------------------------------\n",
      "[3 2 1]\n"
     ]
    }
   ],
   "source": [
    "x = np.array([1,2,3,99,99,3,2,1])\n",
    "x1, x2, x3 = np.split(x,[3,5])\n",
    "print(x1)\n",
    "print(\"-------------------------------\")\n",
    "print(x2)\n",
    "print(\"-------------------------------\")\n",
    "print(x3)"
   ]
  },
  {
   "attachments": {},
   "cell_type": "markdown",
   "metadata": {},
   "source": [
    "##### vsplit"
   ]
  },
  {
   "cell_type": "code",
   "execution_count": 130,
   "metadata": {},
   "outputs": [
    {
     "name": "stdout",
     "output_type": "stream",
     "text": [
      "[[1 1 1 1 1]]\n",
      "---------------------------\n",
      "[[2 2 2 2 2]]\n"
     ]
    }
   ],
   "source": [
    "x = np.array([[1,1,1,1,1],[2,2,2,2,2]])\n",
    "x1,x2 = np.vsplit(x,[1])\n",
    "print(x1)\n",
    "print(\"---------------------------\")\n",
    "print(x2)"
   ]
  },
  {
   "attachments": {},
   "cell_type": "markdown",
   "metadata": {},
   "source": [
    "##### hsplit"
   ]
  },
  {
   "cell_type": "code",
   "execution_count": 133,
   "metadata": {},
   "outputs": [
    {
     "name": "stdout",
     "output_type": "stream",
     "text": [
      "[1 2 3]\n",
      "-------------------------\n",
      "[99 99  3  2  1]\n"
     ]
    }
   ],
   "source": [
    "x = np.array([1,2,3,99,99,3,2,1])\n",
    "x1,x2 = np.hsplit(x,[3])\n",
    "print(x1)\n",
    "print(\"-------------------------\")\n",
    "print(x2)"
   ]
  },
  {
   "attachments": {},
   "cell_type": "markdown",
   "metadata": {},
   "source": [
    "#### Computation on Numpy ( Tính toán trên numpy array)"
   ]
  },
  {
   "attachments": {},
   "cell_type": "markdown",
   "metadata": {},
   "source": [
    "<p> Tại sao cần phải tính toán trên numpy --> Vì sự chậm chạp của các vòng lặp </p>"
   ]
  },
  {
   "cell_type": "code",
   "execution_count": 141,
   "metadata": {},
   "outputs": [],
   "source": [
    "array = np.random.rand(100)\n",
    "def compute_loop(array):\n",
    "    output = np.empty(len(array))\n",
    "    for i in range(len(array)):\n",
    "        output[i] = 1.0/array[i]\n",
    "    return output\n",
    "    "
   ]
  },
  {
   "cell_type": "code",
   "execution_count": 143,
   "metadata": {},
   "outputs": [
    {
     "name": "stdout",
     "output_type": "stream",
     "text": [
      "32.8 µs ± 4.89 µs per loop (mean ± std. dev. of 7 runs, 10,000 loops each)\n"
     ]
    }
   ],
   "source": [
    "%timeit compute_loop(array)"
   ]
  },
  {
   "cell_type": "code",
   "execution_count": 144,
   "metadata": {},
   "outputs": [
    {
     "name": "stdout",
     "output_type": "stream",
     "text": [
      "1.48 µs ± 170 ns per loop (mean ± std. dev. of 7 runs, 1,000,000 loops each)\n"
     ]
    }
   ],
   "source": [
    "%timeit 1.0/array"
   ]
  },
  {
   "attachments": {},
   "cell_type": "markdown",
   "metadata": {},
   "source": [
    "#### Chức năng tính toán cơ bản (Universal Function)"
   ]
  },
  {
   "attachments": {},
   "cell_type": "markdown",
   "metadata": {},
   "source": [
    "##### Mục đích chính của việc sử dụng array ( vector hóa) để nhanh chóng và thay thế cho việc sử dụng vòng lặp"
   ]
  },
  {
   "attachments": {},
   "cell_type": "markdown",
   "metadata": {},
   "source": [
    "##### Số học (arithmetic)"
   ]
  },
  {
   "cell_type": "code",
   "execution_count": 151,
   "metadata": {},
   "outputs": [
    {
     "name": "stdout",
     "output_type": "stream",
     "text": [
      "x      =  [0 1 2 3]\n",
      "x + 5  =  [5 6 7 8]\n",
      "x - 5  =  [-5 -4 -3 -2]\n",
      "x * 5  =  [ 0  5 10 15]\n",
      "x / 1  =  [0. 1. 2. 3.]\n",
      "x // 1 =  [0. 1. 2. 3.]\n",
      "x % 1  =  [0 0 0 0]\n",
      "x**2   =  [0 1 4 9]\n"
     ]
    },
    {
     "data": {
      "text/plain": [
       "<function print(*args, sep=' ', end='\\n', file=None, flush=False)>"
      ]
     },
     "execution_count": 151,
     "metadata": {},
     "output_type": "execute_result"
    }
   ],
   "source": [
    "x = np.arange(4)\n",
    "print(\"x      = \",x )\n",
    "print(\"x + 5  = \",x+5)\n",
    "print(\"x - 5  = \",x-5)\n",
    "print(\"x * 5  = \",x*5)\n",
    "print(\"x / 1  = \",x/1)\n",
    "print(\"x // 1 = \",x/1)\n",
    "print(\"x % 1  = \",x%1)\n",
    "print(\"x**2   = \",x**2)\n",
    "print"
   ]
  },
  {
   "cell_type": "code",
   "execution_count": null,
   "metadata": {},
   "outputs": [],
   "source": [
    "\"\"\"\n",
    "+  : np.add\n",
    "-  : np.subtract \n",
    "*  : np.multiply \n",
    "/  : np.divide \n",
    "// : np.floor_divide \n",
    "** : np.power \n",
    "%  : np.mod \n",
    "\"\"\""
   ]
  },
  {
   "cell_type": "code",
   "execution_count": 154,
   "metadata": {},
   "outputs": [
    {
     "name": "stdout",
     "output_type": "stream",
     "text": [
      "[1 2 3 4]\n",
      "----------\n",
      "[1 2 3 4]\n",
      "-----------------\n",
      "[1 2 3 4]\n"
     ]
    }
   ],
   "source": [
    "### Absolute value ( Giá trị tuyệt đối )\n",
    "x = np.array([-1,-2,3,4])\n",
    "print(abs(x))\n",
    "print(\"----------\")\n",
    "print(np.abs(x))\n",
    "print(\"-----------------\")\n",
    "print(np.absolute(x))"
   ]
  },
  {
   "cell_type": "code",
   "execution_count": 158,
   "metadata": {},
   "outputs": [
    {
     "data": {
      "text/plain": [
       "array([0.        , 2.0943951 , 4.1887902 , 6.28318531])"
      ]
     },
     "execution_count": 158,
     "metadata": {},
     "output_type": "execute_result"
    }
   ],
   "source": [
    "#### Trigonometric func ( hàm lượng giác )\n",
    "array = np.linspace(0,np.pi*2,4)  ## 0-->2pi\n",
    "array"
   ]
  },
  {
   "cell_type": "code",
   "execution_count": 163,
   "metadata": {},
   "outputs": [
    {
     "name": "stdout",
     "output_type": "stream",
     "text": [
      "sin(0,90,180,270):  [ 0.00000000e+00  8.66025404e-01 -8.66025404e-01 -2.44929360e-16]\n",
      "cos(0,90,180,270):  [ 1.  -0.5 -0.5  1. ]\n",
      "tan(0,90,180,270):  [ 0.00000000e+00 -1.73205081e+00  1.73205081e+00 -2.44929360e-16]\n"
     ]
    }
   ],
   "source": [
    "print(\"sin(0,90,180,270): \",np.sin(array))\n",
    "print(\"cos(0,90,180,270): \",np.cos(array))\n",
    "print(\"tan(0,90,180,270): \",np.tan(array))\n",
    "\n"
   ]
  },
  {
   "cell_type": "code",
   "execution_count": 165,
   "metadata": {},
   "outputs": [
    {
     "name": "stdout",
     "output_type": "stream",
     "text": [
      "arcsin(1,0,-1):  [ 1.57079633  0.         -1.57079633]\n",
      "arccos(1,0,-1):  [0.         1.57079633 3.14159265]\n"
     ]
    }
   ],
   "source": [
    "x = np.array([1,0,-1])\n",
    "print(\"arcsin(1,0,-1): \",np.arcsin(x))\n",
    "print(\"arccos(1,0,-1): \",np.arccos(x))\n"
   ]
  },
  {
   "cell_type": "code",
   "execution_count": 166,
   "metadata": {},
   "outputs": [
    {
     "name": "stdout",
     "output_type": "stream",
     "text": [
      "x    =  [1 2 3 4]\n",
      "e^x  =  [ 2.71828183  7.3890561  20.08553692 54.59815003]\n",
      "2^x  =  [ 2.  4.  8. 16.]\n",
      "3^x  =  [ 3  9 27 81]\n"
     ]
    }
   ],
   "source": [
    "### Exp and loga ( hàm mũ và logarit)\n",
    "\n",
    "x = np.array([1,2,3,4])\n",
    "print(\"x    = \",x)\n",
    "print(\"e^x  = \",np.exp(x))\n",
    "print(\"2^x  = \",np.exp2(x))\n",
    "print(\"3^x  = \",np.power(3,x))"
   ]
  },
  {
   "cell_type": "code",
   "execution_count": 168,
   "metadata": {},
   "outputs": [
    {
     "name": "stdout",
     "output_type": "stream",
     "text": [
      "x       =  [ 1  3  5 10]\n",
      "ln(x)   =  [0.         1.09861229 1.60943791 2.30258509]\n",
      "log2(x) =  [0.         1.5849625  2.32192809 3.32192809]\n",
      "log10(x) =  [0.         0.47712125 0.69897    1.        ]\n"
     ]
    }
   ],
   "source": [
    "x = np.array([1,3,5,10])\n",
    "print(\"x       = \",x)\n",
    "print(\"ln(x)   = \",np.log(x))\n",
    "print(\"log2(x) = \",np.log2(x))\n",
    "print(\"log10(x) = \",np.log10(x))"
   ]
  },
  {
   "attachments": {},
   "cell_type": "markdown",
   "metadata": {},
   "source": [
    "##### Specifying output ( Chỉ định đầu ra )\n"
   ]
  },
  {
   "cell_type": "code",
   "execution_count": 172,
   "metadata": {},
   "outputs": [
    {
     "name": "stdout",
     "output_type": "stream",
     "text": [
      "[8.48798316e-314 2.12199580e-314 1.90979621e-313 6.36598737e-314\n",
      " 8.48798316e-314 2.12199579e-314]\n",
      "-------------\n",
      "[10. 10.  7.  8.  9. 10.]\n"
     ]
    }
   ],
   "source": [
    "x = np.array([5,5,2,3,4,5])\n",
    "y = np.empty(len(x))\n",
    "print(y)\n",
    "print(\"-------------\")\n",
    "np.add(x,5,out = y)\n",
    "print(y)"
   ]
  },
  {
   "attachments": {},
   "cell_type": "markdown",
   "metadata": {},
   "source": [
    "Aggregates ( tập hợp array theo 1 phương thức )\n",
    "\n"
   ]
  },
  {
   "cell_type": "code",
   "execution_count": 173,
   "metadata": {},
   "outputs": [
    {
     "name": "stdout",
     "output_type": "stream",
     "text": [
      "[1 2 3 4 5 6 7 8 9] \n",
      "----------------\n"
     ]
    },
    {
     "data": {
      "text/plain": [
       "45"
      ]
     },
     "execution_count": 173,
     "metadata": {},
     "output_type": "execute_result"
    }
   ],
   "source": [
    "x = np.arange(1,10)\n",
    "print(x,\"\\n----------------\")\n",
    "np.add.reduce(x)"
   ]
  },
  {
   "cell_type": "code",
   "execution_count": 175,
   "metadata": {},
   "outputs": [
    {
     "name": "stdout",
     "output_type": "stream",
     "text": [
      "[1 2 3 4 5 6 7 8 9] \n",
      "----------------\n"
     ]
    },
    {
     "data": {
      "text/plain": [
       "array([ 1,  3,  6, 10, 15, 21, 28, 36, 45])"
      ]
     },
     "execution_count": 175,
     "metadata": {},
     "output_type": "execute_result"
    }
   ],
   "source": [
    "### Lưu lại các trạng thái mỗi lần + \n",
    "x = np.arange(1,10)\n",
    "print(x,\"\\n----------------\")\n",
    "np.add.accumulate(x)"
   ]
  },
  {
   "cell_type": "code",
   "execution_count": 178,
   "metadata": {},
   "outputs": [
    {
     "name": "stdout",
     "output_type": "stream",
     "text": [
      "--------------------\n",
      "[[1 2 3]\n",
      " [2 4 6]\n",
      " [3 6 9]]\n"
     ]
    }
   ],
   "source": [
    "### np.outer()\n",
    "\n",
    "x = np.arange(1,4)\n",
    "\n",
    "print(\"--------------------\")\n",
    "print(np.multiply.outer(x,x))\n",
    "\n"
   ]
  },
  {
   "attachments": {},
   "cell_type": "markdown",
   "metadata": {},
   "source": [
    "#### Aggregations: Min, Max and everything "
   ]
  },
  {
   "attachments": {},
   "cell_type": "markdown",
   "metadata": {},
   "source": [
    "##### Sum of array"
   ]
  },
  {
   "cell_type": "code",
   "execution_count": 182,
   "metadata": {},
   "outputs": [
    {
     "name": "stdout",
     "output_type": "stream",
     "text": [
      "1.77 µs ± 140 ns per loop (mean ± std. dev. of 7 runs, 1,000,000 loops each)\n",
      "-------------------------\n",
      "3.8 µs ± 110 ns per loop (mean ± std. dev. of 7 runs, 100,000 loops each)\n"
     ]
    }
   ],
   "source": [
    "array = np.random.randint(1,100,(1,100))\n",
    "%timeit sum(array)\n",
    "print(\"-------------------------\")\n",
    "%timeit np.sum(array)"
   ]
  },
  {
   "attachments": {},
   "cell_type": "markdown",
   "metadata": {},
   "source": [
    "##### Min and Max"
   ]
  },
  {
   "cell_type": "code",
   "execution_count": 186,
   "metadata": {},
   "outputs": [
    {
     "name": "stdout",
     "output_type": "stream",
     "text": [
      "MIN:  2\n",
      "-----------------------\n",
      "MAX:  98\n"
     ]
    }
   ],
   "source": [
    "print(\"MIN: \",np.min(array))\n",
    "print(\"-----------------------\")\n",
    "print(\"MAX: \",np.max(array))"
   ]
  },
  {
   "cell_type": "code",
   "execution_count": 190,
   "metadata": {},
   "outputs": [
    {
     "name": "stdout",
     "output_type": "stream",
     "text": [
      "MIN:  2\n",
      "-----------------------\n",
      "MAX:  98\n"
     ]
    }
   ],
   "source": [
    "print(\"MIN: \",array.min())\n",
    "print(\"-----------------------\")\n",
    "print(\"MAX: \",array.max())"
   ]
  },
  {
   "attachments": {},
   "cell_type": "markdown",
   "metadata": {},
   "source": [
    "##### Multidimensional aggregates (Rút gọn đa chiều)\n"
   ]
  },
  {
   "cell_type": "code",
   "execution_count": 191,
   "metadata": {},
   "outputs": [
    {
     "name": "stdout",
     "output_type": "stream",
     "text": [
      "[[0.16261675 0.30806856 0.08267577 0.6201218 ]\n",
      " [0.98964865 0.02234914 0.34259028 0.43609746]\n",
      " [0.5870866  0.0848341  0.1916826  0.02337351]]\n"
     ]
    }
   ],
   "source": [
    "M = np.random.random((3, 4))\n",
    "print(M)"
   ]
  },
  {
   "cell_type": "code",
   "execution_count": 193,
   "metadata": {},
   "outputs": [
    {
     "name": "stdout",
     "output_type": "stream",
     "text": [
      "Max theo cột:  [0.98964865 0.30806856 0.34259028 0.6201218 ]\n",
      "---------------------------------\n",
      "Max theo hàng:  [0.6201218  0.98964865 0.5870866 ]\n"
     ]
    }
   ],
   "source": [
    "print(\"Max theo cột: \",M.max(axis = 0))\n",
    "print(\"---------------------------------\")\n",
    "print(\"Max theo hàng: \",M.max(axis = 1))\n"
   ]
  },
  {
   "cell_type": "code",
   "execution_count": 200,
   "metadata": {},
   "outputs": [],
   "source": [
    "\"\"\"\"\n",
    "np.sum         Tính tổng elements\n",
    "np.prod        Tính tích elements\n",
    "np.mean        Tính median of elements \n",
    "np.std         Tính độ lệch chuẩn\n",
    "np.var         Tính phương sai \n",
    "np.min         Min của array\n",
    "np.max         Max của array\n",
    "np.argmin      Địa chỉ của min\n",
    "np.argmax      Địa chỉ của max \n",
    "np.median      Tính median\n",
    "np.percentile  Tính mode \n",
    "np.any         Đánh giá xem có phần tử nào đúng(!=0) ko\n",
    "np.all         Đánh giá xem có phần từ nào sai(=0) ko\n",
    "\"\"\""
   ]
  },
  {
   "cell_type": "code",
   "execution_count": null,
   "metadata": {},
   "outputs": [],
   "source": []
  }
 ],
 "metadata": {
  "kernelspec": {
   "display_name": "Python 3",
   "language": "python",
   "name": "python3"
  },
  "language_info": {
   "codemirror_mode": {
    "name": "ipython",
    "version": 3
   },
   "file_extension": ".py",
   "mimetype": "text/x-python",
   "name": "python",
   "nbconvert_exporter": "python",
   "pygments_lexer": "ipython3",
   "version": "3.11.1"
  },
  "orig_nbformat": 4
 },
 "nbformat": 4,
 "nbformat_minor": 2
}
